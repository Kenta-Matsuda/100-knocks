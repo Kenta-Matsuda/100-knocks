{
 "cells": [
  {
   "cell_type": "code",
   "execution_count": 86,
   "metadata": {},
   "outputs": [],
   "source": [
    "# このノートは自然言語処理100本ノックの学習用です。\n",
    "# https://nlp100.github.io/ja/"
   ]
  },
  {
   "cell_type": "markdown",
   "metadata": {},
   "source": [
    "## **第1章: 準備運動**"
   ]
  },
  {
   "cell_type": "code",
   "execution_count": 87,
   "metadata": {},
   "outputs": [
    {
     "name": "stdout",
     "output_type": "stream",
     "text": [
      "desserts\n"
     ]
    }
   ],
   "source": [
    "# 00. 文字列の逆順\n",
    "txt = 'stressed'\n",
    "print(txt[::-1])\n",
    "\n",
    "# [start:stop:step]はstart,stopが省略されると\n",
    "# 0~len(txt)までとなるが、どちらか一方省略することは\n",
    "# できない"
   ]
  },
  {
   "cell_type": "code",
   "execution_count": 88,
   "metadata": {},
   "outputs": [
    {
     "name": "stdout",
     "output_type": "stream",
     "text": [
      "パトカー\n"
     ]
    }
   ],
   "source": [
    "# 01. 「パタトクカシーー」\n",
    "txt = 'パタトクカシーー'\n",
    "print(txt[::2])"
   ]
  },
  {
   "cell_type": "code",
   "execution_count": 89,
   "metadata": {},
   "outputs": [
    {
     "name": "stdout",
     "output_type": "stream",
     "text": [
      "パタトクカシーー\n"
     ]
    }
   ],
   "source": [
    "# 02. 「パトカー」＋「タクシー」＝「パタトクカシーー」\n",
    "txt1 = 'パトカー'\n",
    "txt2 = 'タクシー'\n",
    "ans = ''\n",
    "for txt in zip(txt1,txt2):\n",
    "    ans += ''.join(txt)\n",
    "print(ans)"
   ]
  },
  {
   "cell_type": "code",
   "execution_count": 90,
   "metadata": {},
   "outputs": [
    {
     "name": "stdout",
     "output_type": "stream",
     "text": [
      "[3, 1, 4, 1, 5, 9, 2, 6, 5, 3, 5, 8, 9, 7, 9]\n"
     ]
    }
   ],
   "source": [
    "# 03. 円周率\n",
    "text = 'Now I need a drink, alcoholic of course, \\\n",
    "        after the heavy lectures \\\n",
    "        involving quantum mechanics.'\n",
    "text = text.replace(\",\",\"\").replace(\".\",\"\")\n",
    "ans = [len(x) for x in text.split()]\n",
    "print(ans)"
   ]
  },
  {
   "cell_type": "code",
   "execution_count": 91,
   "metadata": {},
   "outputs": [
    {
     "name": "stdout",
     "output_type": "stream",
     "text": [
      "{'H': 1, 'He': 2, 'Li': 3, 'Be': 4, 'B': 5, 'C': 6, 'N': 7, 'O': 8, 'F': 9, 'Ne': 10, 'Na': 11, 'Mi': 12, 'Al': 13, 'Si': 14, 'P': 15, 'S': 16, 'Cl': 17, 'Ar': 18, 'K': 19, 'Ca': 20}\n"
     ]
    }
   ],
   "source": [
    "# 04. 元素記号\n",
    "text = 'Hi He Lied Because Boron Could Not \\\n",
    "    Oxidize Fluorine. New Nations Might Also \\\n",
    "    Sign Peace Security Clause. Arthur King Can.'\n",
    "ans = {}\n",
    "# enumerate(xxx,1)でindexを1からに設定\n",
    "for i,x in enumerate(text.split(),1):\n",
    "    if i in [1,5,6,7,8,9,15,16,19]:\n",
    "        ans[x[0]] = i\n",
    "    else:\n",
    "        ans[x[:2]] = i\n",
    "\n",
    "print(ans)"
   ]
  },
  {
   "cell_type": "code",
   "execution_count": 92,
   "metadata": {},
   "outputs": [
    {
     "name": "stdout",
     "output_type": "stream",
     "text": [
      "[['I', 'am'], ['am', 'an'], ['an', 'NLPer']]\n",
      "['Ia', 'am', 'ma', 'an', 'nN', 'NL', 'LP', 'Pe', 'er']\n"
     ]
    }
   ],
   "source": [
    "# 05. n-gram\n",
    "# (参考)https://en.wikipedia.org/wiki/N-gram\n",
    "def ngram(num,arr):\n",
    "    return [arr[i:i+num] for i in range(len(arr)-num+1)]\n",
    "\n",
    "text = 'I am an NLPer'\n",
    "print(ngram(2,text.split()))\n",
    "print(ngram(2,text.replace(' ','')))"
   ]
  },
  {
   "cell_type": "code",
   "execution_count": 93,
   "metadata": {},
   "outputs": [
    {
     "name": "stdout",
     "output_type": "stream",
     "text": [
      "X:['pa', 'ar', 'ra', 'ap', 'pa', 'ar', 'ra', 'ap', 'pa', 'ar', 'ra', 'ad', 'di', 'is', 'se']\n",
      "Y:['pa', 'ar', 'ra', 'ag', 'gr', 'ra', 'ap', 'ph']\n",
      "和集合：{'ar', 'se', 'gr', 'ra', 'ad', 'di', 'pa', 'is', 'ag', 'ap', 'ph'}\n",
      "積集合：{'ra', 'ar', 'ap', 'pa'}\n",
      "差集合X-Y:{'ad', 'se', 'di', 'is'}\n",
      "差集合Y-X:{'ph', 'ag', 'gr'}\n",
      "se in X:True, se in Y:False\n"
     ]
    }
   ],
   "source": [
    "# 06. 集合\n",
    "# setでは和集合、差集合、積集合を簡単に出力できる\n",
    "X = ngram(2,'paraparaparadise')\n",
    "Y = ngram(2,'paragraph')\n",
    "print(f'X:{X}')\n",
    "print(f'Y:{Y}')\n",
    "print(f'和集合：{set(X) | set(Y)}')\n",
    "print(f'積集合：{set(X) & set(Y)}')\n",
    "print(f'差集合X-Y:{set(X)-set(Y)}')\n",
    "print(f'差集合Y-X:{set(Y)-set(X)}')\n",
    "print(f'se in X:{'se' in X}, se in Y:{'se' in Y}')"
   ]
  },
  {
   "cell_type": "code",
   "execution_count": 102,
   "metadata": {},
   "outputs": [
    {
     "name": "stdout",
     "output_type": "stream",
     "text": [
      "12時の気温は30\n"
     ]
    }
   ],
   "source": [
    "# 07. テンプレートによる文生成\n",
    "x,y,z = input().split()\n",
    "print(f'{x}時の{y}は{z}')"
   ]
  },
  {
   "cell_type": "code",
   "execution_count": null,
   "metadata": {},
   "outputs": [
    {
     "name": "stdout",
     "output_type": "stream",
     "text": [
      "Hello\n"
     ]
    }
   ],
   "source": [
    "# 08. 暗号文\n",
    "# chr:Unicodeコードポイント→文字\n",
    "# ord:文字→Unicodeコードポイント\n",
    "text = input()\n",
    "tmp = [chr(219-ord(x)) if x.islower() else x for x in text]\n",
    "print(''.join(tmp))"
   ]
  },
  {
   "cell_type": "code",
   "execution_count": 101,
   "metadata": {},
   "outputs": [
    {
     "name": "stdout",
     "output_type": "stream",
     "text": [
      "I cdulno’t bievlee that I cuold alltacuy undnetsrad what I was rednaig : the pmehnoenal pwoer of the hmuan mind .\n"
     ]
    }
   ],
   "source": [
    "# 09. Typoglycemia\n",
    "import random\n",
    "def shuffle_str(txt):\n",
    "    if len(txt)<5:\n",
    "        return txt\n",
    "    else:\n",
    "        # random.shuffleは元のリストを並び替える\n",
    "        # random.sampleは並び替えた新しいリストを返す\n",
    "        tmp = random.sample(txt[1:-1],len(txt[1:-1]))\n",
    "        return txt[0]+''.join(tmp)+txt[-1]\n",
    "\n",
    "text = 'I couldn’t believe that I could actually understand what I was reading : the phenomenal power of the human mind .'\n",
    "print(' '.join([shuffle_str(x) for x in text.split()]))"
   ]
  },
  {
   "cell_type": "markdown",
   "metadata": {},
   "source": [
    "## **第2章: UNIXコマンド**"
   ]
  },
  {
   "cell_type": "code",
   "execution_count": null,
   "metadata": {},
   "outputs": [],
   "source": []
  },
  {
   "cell_type": "code",
   "execution_count": null,
   "metadata": {},
   "outputs": [],
   "source": []
  },
  {
   "cell_type": "code",
   "execution_count": null,
   "metadata": {},
   "outputs": [],
   "source": []
  },
  {
   "cell_type": "code",
   "execution_count": null,
   "metadata": {},
   "outputs": [],
   "source": []
  },
  {
   "cell_type": "code",
   "execution_count": null,
   "metadata": {},
   "outputs": [],
   "source": []
  },
  {
   "cell_type": "code",
   "execution_count": null,
   "metadata": {},
   "outputs": [],
   "source": []
  },
  {
   "cell_type": "code",
   "execution_count": null,
   "metadata": {},
   "outputs": [],
   "source": []
  },
  {
   "cell_type": "code",
   "execution_count": null,
   "metadata": {},
   "outputs": [],
   "source": []
  },
  {
   "cell_type": "code",
   "execution_count": null,
   "metadata": {},
   "outputs": [],
   "source": []
  },
  {
   "cell_type": "code",
   "execution_count": null,
   "metadata": {},
   "outputs": [],
   "source": []
  },
  {
   "cell_type": "code",
   "execution_count": null,
   "metadata": {},
   "outputs": [],
   "source": []
  }
 ],
 "metadata": {
  "kernelspec": {
   "display_name": "Python 3",
   "language": "python",
   "name": "python3"
  },
  "language_info": {
   "codemirror_mode": {
    "name": "ipython",
    "version": 3
   },
   "file_extension": ".py",
   "mimetype": "text/x-python",
   "name": "python",
   "nbconvert_exporter": "python",
   "pygments_lexer": "ipython3",
   "version": "3.12.3"
  }
 },
 "nbformat": 4,
 "nbformat_minor": 2
}
